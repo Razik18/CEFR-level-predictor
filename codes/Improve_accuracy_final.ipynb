{
  "cells": [
    {
      "cell_type": "markdown",
      "source": [
        "**Last Step**\n",
        "---\n",
        "Improving accuracy with a system that takes the most frequent value among five predictions made using five different models.\n",
        "\n",
        "\n",
        "\n"
      ],
      "metadata": {
        "id": "5cf2W_Kgd-my"
      },
      "id": "5cf2W_Kgd-my"
    },
    {
      "cell_type": "code",
      "execution_count": 10,
      "id": "5b6fe620",
      "metadata": {
        "colab": {
          "base_uri": "https://localhost:8080/"
        },
        "id": "5b6fe620",
        "outputId": "3bc07808-6c61-4b8e-ae43-574b30ed7775"
      },
      "outputs": [
        {
          "output_type": "stream",
          "name": "stdout",
          "text": [
            "Output saved to 'finalprediction.csv'\n"
          ]
        }
      ],
      "source": [
        "\n",
        "import pandas as pd\n",
        "from collections import Counter\n",
        "\n",
        "def merge_and_vote_for_difficulty(file_paths):\n",
        "    \"\"\"\n",
        "    Merges multiple CSV files based on the 'id' column and performs a voting\n",
        "    mechanism to find the most common value in the 'difficulty' column for each id.\n",
        "\n",
        "    Parameters:\n",
        "    file_paths (list): List of file paths to the CSV files.\n",
        "\n",
        "    Returns:\n",
        "    pd.DataFrame: A dataframe with the result of the voting process, including\n",
        "                  only 'id' and 'most_common_difficulty'.\n",
        "    \"\"\"\n",
        "    # Reading the CSV files into dataframes\n",
        "    dfs = [pd.read_csv(path) for path in file_paths]\n",
        "\n",
        "    # Merging dataframes on 'id' column, keeping only 'difficulty' columns\n",
        "    merged_df = dfs[0][['id', 'difficulty']]\n",
        "    for df in dfs[1:]:\n",
        "        merged_df = merged_df.merge(df[['id', 'difficulty']], on='id', suffixes=('', '_drop'))\n",
        "\n",
        "    # Function to determine the most common difficulty for each row\n",
        "    def most_common_difficulty(row):\n",
        "        row = row[1:]  # Skipping the 'id' column\n",
        "        counter = Counter(row)\n",
        "        most_common = counter.most_common(1)[0][0]\n",
        "        return most_common\n",
        "\n",
        "    # Applying the function to each row\n",
        "    merged_df['difficulty'] = merged_df.apply(most_common_difficulty, axis=1)\n",
        "\n",
        "    # Returning only 'id' and 'most_common_difficulty'\n",
        "    return merged_df[['id', 'difficulty']]\n",
        "\n",
        "\n",
        "if __name__ == \"__main__\":\n",
        "    # File paths to the CSV files\n",
        "    file_paths = [\n",
        "        '/content/flaubert_base_predictions.csv',\n",
        "        '/content/flaubert_large_predictions.csv',\n",
        "        '/content/camembert_base_predictions.csv',\n",
        "        '/content/camembert_large_predictions.csv',\n",
        "        '/content/base-french-europeana-cased_predictions.csv'\n",
        "    ]\n",
        "\n",
        "    # Performing the merge and vote process\n",
        "    result_df = merge_and_vote_for_difficulty(file_paths)\n",
        "\n",
        "    # Saving the result to a new CSV file\n",
        "    result_df.to_csv('finalprediciton.csv', index=False)\n",
        "\n",
        "    print(\"Output saved to 'finalprediction.csv'\")\n"
      ]
    }
  ],
  "metadata": {
    "colab": {
      "provenance": []
    },
    "language_info": {
      "name": "python"
    },
    "kernelspec": {
      "name": "python3",
      "display_name": "Python 3"
    }
  },
  "nbformat": 4,
  "nbformat_minor": 5
}